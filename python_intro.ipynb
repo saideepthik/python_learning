{
 "cells": [
  {
   "cell_type": "raw",
   "metadata": {},
   "source": [
    "A very short introduction: Why Python???\n",
    "\n",
    "    Python is a high level language\n",
    "        Easy to understand, as it is like reading english.\n",
    "        It is far from machine code(0 and 1). Infact many layers ahead.It needs to be run by another program called interpreter for compilation.\n",
    "        Debugging is also easier.\n",
    "    Python is a interpreter language\n",
    "        Interpreter language: SOURCE CODE -> INTERPRETER -> OUTPUT\n",
    "        Compiler language: SOURCE CODE -> COMPILER -> OBJECT CODE -> EXECUTOR -> OUTPUT\n",
    "\n"
   ]
  },
  {
   "cell_type": "markdown",
   "metadata": {},
   "source": [
    "Anacoda:"
   ]
  },
  {
   "cell_type": "raw",
   "metadata": {},
   "source": [
    "Anacond is an enterprise which gives platform to implements projects, data analytics.,etc\n",
    "Here, as per our requirement we need Jupyter so we will launch it and use it."
   ]
  },
  {
   "cell_type": "markdown",
   "metadata": {},
   "source": [
    "Installation:"
   ]
  },
  {
   "cell_type": "raw",
   "metadata": {},
   "source": [
    " Go through this link to download and installation steps: https://docs.anaconda.com/anaconda/install/windows/ "
   ]
  },
  {
   "cell_type": "code",
   "execution_count": null,
   "metadata": {},
   "outputs": [],
   "source": []
  }
 ],
 "metadata": {
  "kernelspec": {
   "display_name": "Python 3",
   "language": "python",
   "name": "python3"
  },
  "language_info": {
   "codemirror_mode": {
    "name": "ipython",
    "version": 3
   },
   "file_extension": ".py",
   "mimetype": "text/x-python",
   "name": "python",
   "nbconvert_exporter": "python",
   "pygments_lexer": "ipython3",
   "version": "3.7.1"
  }
 },
 "nbformat": 4,
 "nbformat_minor": 2
}
