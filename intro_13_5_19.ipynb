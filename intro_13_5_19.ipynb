{
 "cells": [
  {
   "cell_type": "code",
   "execution_count": 14,
   "metadata": {
    "scrolled": true
   },
   "outputs": [
    {
     "name": "stdout",
     "output_type": "stream",
     "text": [
      "................\n"
     ]
    }
   ],
   "source": [
    "# START WITH YOUR BEAUTIFUL NAME   (here # stands to write comments)\n",
    "#PRINT UR NAME\n",
    "print(\"................\")           # print function as like C"
   ]
  },
  {
   "cell_type": "markdown",
   "metadata": {},
   "source": [
    "python interpreter as simple calculator"
   ]
  },
  {
   "cell_type": "code",
   "execution_count": 15,
   "metadata": {},
   "outputs": [
    {
     "data": {
      "text/plain": [
       "6"
      ]
     },
     "execution_count": 15,
     "metadata": {},
     "output_type": "execute_result"
    }
   ],
   "source": [
    "2+4"
   ]
  },
  {
   "cell_type": "code",
   "execution_count": 4,
   "metadata": {},
   "outputs": [
    {
     "data": {
      "text/plain": [
       "671903"
      ]
     },
     "execution_count": 4,
     "metadata": {},
     "output_type": "execute_result"
    }
   ],
   "source": [
    "678678-6775"
   ]
  },
  {
   "cell_type": "code",
   "execution_count": 5,
   "metadata": {},
   "outputs": [
    {
     "data": {
      "text/plain": [
       "1662"
      ]
     },
     "execution_count": 5,
     "metadata": {},
     "output_type": "execute_result"
    }
   ],
   "source": [
    "554*3"
   ]
  },
  {
   "cell_type": "code",
   "execution_count": 6,
   "metadata": {},
   "outputs": [
    {
     "data": {
      "text/plain": [
       "1357.4"
      ]
     },
     "execution_count": 6,
     "metadata": {},
     "output_type": "execute_result"
    }
   ],
   "source": [
    "6787/5"
   ]
  },
  {
   "cell_type": "code",
   "execution_count": 7,
   "metadata": {},
   "outputs": [
    {
     "data": {
      "text/plain": [
       "0"
      ]
     },
     "execution_count": 7,
     "metadata": {},
     "output_type": "execute_result"
    }
   ],
   "source": [
    "54%6"
   ]
  },
  {
   "cell_type": "code",
   "execution_count": 8,
   "metadata": {},
   "outputs": [
    {
     "data": {
      "text/plain": [
       "4"
      ]
     },
     "execution_count": 8,
     "metadata": {},
     "output_type": "execute_result"
    }
   ],
   "source": [
    "6^2"
   ]
  },
  {
   "cell_type": "code",
   "execution_count": 33,
   "metadata": {},
   "outputs": [
    {
     "name": "stdout",
     "output_type": "stream",
     "text": [
      "x + y = 19 : 0b10011\n",
      "x - y = 11 : 0b1011\n",
      "x * y = 60 : 0b111100\n",
      "x / y = 3.75\n",
      "x // y = 3 : 0b11\n",
      "x ** y = 50625 : 0b1100010111000001\n"
     ]
    }
   ],
   "source": [
    "#Arithemic operations - + - * / // **\n",
    "x = 15\n",
    "y = 4\n",
    "z =0 \n",
    "z = x + y \n",
    "print('x + y =',x+y,':',bin(z))    # bin() will give you binary values\n",
    "\n",
    "z = x - y \n",
    "print('x - y =',x-y,':',bin(z))\n",
    "\n",
    "z = x * y \n",
    "print('x * y =',x*y,':',bin(z))\n",
    "\n",
    "z = x / y \n",
    "print('x / y =',x/y)\n",
    "\n",
    "z = x // y \n",
    "print('x // y =',x//y,':',bin(z))\n",
    "\n",
    "z = x ** y \n",
    "print('x ** y =',x**y,':',bin(z))"
   ]
  },
  {
   "cell_type": "code",
   "execution_count": 34,
   "metadata": {},
   "outputs": [
    {
     "name": "stdout",
     "output_type": "stream",
     "text": [
      "x > y  is False\n",
      "x < y  is True\n",
      "x == y is False\n",
      "x != y is True\n",
      "x >= y is False\n",
      "x <= y is True\n"
     ]
    }
   ],
   "source": [
    "#Comparision operators- > < == !\n",
    "x = 10\n",
    "y = 12\n",
    "\n",
    "# Output: x > y is False\n",
    "print('x > y  is',x>y)\n",
    "\n",
    "# Output: x < y is True\n",
    "print('x < y  is',x<y)\n",
    "\n",
    "# Output: x == y is False\n",
    "print('x == y is',x==y)\n",
    "\n",
    "# Output: x != y is True\n",
    "print('x != y is',x!=y)\n",
    "\n",
    "# Output: x >= y is False\n",
    "print('x >= y is',x>=y)\n",
    "\n",
    "# Output: x <= y is True\n",
    "print('x <= y is',x<=y)"
   ]
  },
  {
   "cell_type": "code",
   "execution_count": 17,
   "metadata": {},
   "outputs": [
    {
     "name": "stdout",
     "output_type": "stream",
     "text": [
      "x and y is False\n",
      "x or y is True\n",
      "not x is False\n"
     ]
    }
   ],
   "source": [
    "#Logical operations- and, or, not\n",
    "x = True\n",
    "y = False\n",
    "\n",
    "# Output: x and y is False\n",
    "print('x and y is',x and y)\n",
    "\n",
    "# Output: x or y is True\n",
    "print('x or y is',x or y)\n",
    "\n",
    "# Output: not x is False\n",
    "print('not x is',not x)"
   ]
  },
  {
   "cell_type": "code",
   "execution_count": 20,
   "metadata": {},
   "outputs": [
    {
     "name": "stdout",
     "output_type": "stream",
     "text": [
      "a= 60 : 0b111100 b= 13 : 0b1101\n",
      "result of AND is  12 : 0b1100\n",
      "result of OR is  61 : 0b111101\n",
      "result of EXOR is  49 : 0b110001\n",
      "result of COMPLEMENT is  -61 : -0b111101\n",
      "result of LEFT SHIFT is  240 : 0b11110000\n",
      "result of RIGHT SHIFT is  15 : 0b1111\n"
     ]
    }
   ],
   "source": [
    "#bitwise operators- & | ^ ~ << >>\n",
    "\n",
    "a = 60            # 60 = 0011 1100\n",
    "b = 13            # 13 = 0000 1101\n",
    "print ('a=',a,':',bin(a),'b=',b,':',bin(b))\n",
    "c = 0\n",
    "\n",
    "c = a & b;        # 12 = 0000 1100\n",
    "print (\"result of AND is \", c,':',bin(c))\n",
    "\n",
    "c = a | b;        # 61 = 0011 1101 \n",
    "print (\"result of OR is \", c,':',bin(c))\n",
    "\n",
    "c = a ^ b;        # 49 = 0011 0001\n",
    "print (\"result of EXOR is \", c,':',bin(c))\n",
    "\n",
    "c = ~a;           # -61 = 1100 0011\n",
    "print (\"result of COMPLEMENT is \", c,':',bin(c))\n",
    "\n",
    "c = a << 2;       # 240 = 1111 0000\n",
    "print (\"result of LEFT SHIFT is \", c,':',bin(c))\n",
    "\n",
    "c = a >> 2;       # 15 = 0000 1111\n",
    "print (\"result of RIGHT SHIFT is \", c,':',bin(c))"
   ]
  },
  {
   "cell_type": "markdown",
   "metadata": {},
   "source": [
    "Special operators:"
   ]
  },
  {
   "cell_type": "code",
   "execution_count": 18,
   "metadata": {},
   "outputs": [
    {
     "name": "stdout",
     "output_type": "stream",
     "text": [
      "False\n",
      "True\n",
      "False\n"
     ]
    }
   ],
   "source": [
    "#Identify operators- is /  is not\n",
    "x1 = 5\n",
    "y1 = 5\n",
    "x2 = 'Hello'\n",
    "y2 = 'Hello'\n",
    "x3 = [1,2,3]\n",
    "y3 = [1,2,3]\n",
    "\n",
    "# Output: False\n",
    "print(x1 is not y1)\n",
    "\n",
    "# Output: True\n",
    "print(x2 is y2)\n",
    "\n",
    "# Output: False\n",
    "print(x3 is y3)"
   ]
  },
  {
   "cell_type": "code",
   "execution_count": 19,
   "metadata": {},
   "outputs": [
    {
     "name": "stdout",
     "output_type": "stream",
     "text": [
      "True\n",
      "True\n",
      "True\n",
      "False\n"
     ]
    }
   ],
   "source": [
    "# Membership operator- in / not in\n",
    "x = 'Hello world'\n",
    "y = {1:'a',2:'b'}\n",
    "\n",
    "# Output: True\n",
    "print('H' in x)\n",
    "\n",
    "# Output: True\n",
    "print('hello' not in x)\n",
    "\n",
    "# Output: True\n",
    "print(1 in y)\n",
    "\n",
    "# Output: False\n",
    "print('a' in y)"
   ]
  },
  {
   "cell_type": "raw",
   "metadata": {},
   "source": [
    "#References\n",
    "\n",
    "https://docs.python.org/3/tutorial/introduction.html#numbers\n",
    "\n",
    "https://www.programiz.com/python-programming/operators \n",
    "\n",
    "https://www.tutorialspoint.com/python3/bitwise_operators_example.html"
   ]
  },
  {
   "cell_type": "code",
   "execution_count": null,
   "metadata": {},
   "outputs": [],
   "source": []
  }
 ],
 "metadata": {
  "kernelspec": {
   "display_name": "Python 3",
   "language": "python",
   "name": "python3"
  },
  "language_info": {
   "codemirror_mode": {
    "name": "ipython",
    "version": 3
   },
   "file_extension": ".py",
   "mimetype": "text/x-python",
   "name": "python",
   "nbconvert_exporter": "python",
   "pygments_lexer": "ipython3",
   "version": "3.7.1"
  }
 },
 "nbformat": 4,
 "nbformat_minor": 2
}
