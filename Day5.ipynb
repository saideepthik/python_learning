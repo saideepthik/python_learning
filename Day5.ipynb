{
 "cells": [
  {
   "cell_type": "markdown",
   "metadata": {},
   "source": [
    "# Modules  and packages in python\n",
    "* A module allows you to logically organize your Python code. Grouping related code into a module makes the code easier to understand and use. A module is a Python object with arbitrarily named attributes that you can bind and reference.\n",
    "\n",
    "* Simply, a module is a file consisting of Python code. A module can define functions, classes and variables. A module can also include runnable code."
   ]
  },
  {
   "cell_type": "raw",
   "metadata": {},
   "source": [
    "How to import modules?\n",
    "import module1[, module2[,... moduleN]\n",
    "from modname import name1[, name2[, ... nameN]]\n",
    "from modname import *\n"
   ]
  },
  {
   "cell_type": "markdown",
   "metadata": {},
   "source": [
    "## Command line parameters\n",
    "* to arguments to program when are executed\n",
    "* .argv refers to the number of arguments passed, and argv[] is a pointer array which points to each argument which is passed to main.\n",
    "* sys module provides access to any command-line arguments via sys.argv.\n",
    "* this serves two purposes:\n",
    "    * sys.argv is the list of command-line arguments\n",
    "    * len(sys.argv) is the number of command-line arguments"
   ]
  },
  {
   "cell_type": "code",
   "execution_count": 1,
   "metadata": {},
   "outputs": [
    {
     "name": "stdout",
     "output_type": "stream",
     "text": [
      "3\n",
      "['C:\\\\Users\\\\20126196\\\\AppData\\\\Local\\\\Continuum\\\\anaconda3\\\\lib\\\\site-packages\\\\ipykernel_launcher.py', '-f', 'C:\\\\Users\\\\20126196\\\\AppData\\\\Roaming\\\\jupyter\\\\runtime\\\\kernel-6cfddd70-fa98-4ed8-aa8e-75e91c0ac24d.json']\n"
     ]
    }
   ],
   "source": [
    "import sys\n",
    "print(len(sys.argv))\n",
    "print(sys.argv)   # try in terminal or other ide's like pycharm using: python filename.py arguments..."
   ]
  },
  {
   "cell_type": "markdown",
   "metadata": {},
   "source": [
    "# File operations"
   ]
  },
  {
   "cell_type": "raw",
   "metadata": {},
   "source": [
    "# file i/p or o/p\n",
    "file_ob = open(filename,[access_mode]) # to open a file\n",
    "here \n",
    "filename is name of the file which you want to access\n",
    "access_mode is mode of file has to be open ie. read, write, append.\n",
    "\n",
    "access_modes:\n",
    "w - write the file, if file doesn't exist create a file.\n",
    "wb - write the file in binary format and creates a new file, if it doesn't exist\n",
    "w+ - open file for write and read \n",
    "wb+ - open file for write and read in binary format\n",
    "r- read the file\n",
    "rb- read a file in binary format\n",
    "r+ - open file for read and write\n",
    "rb+ - open file for read and write in binary format\n",
    "a - append the file\n",
    "rb - append a file in binary format\n",
    "r+ - open file for append and write\n",
    "rb+ - open file for append and write in binary format"
   ]
  },
  {
   "cell_type": "raw",
   "metadata": {},
   "source": [
    "# writing file\n",
    "file_ob.write(data)\n",
    "# reading a file\n",
    "file_ob.read() # read entire file\n",
    "file_ob.read(count)  # count is no. of characters u want to read\n",
    "os.rename(newfilename.filename)          # to rename the file and os is a module\n",
    "os.remove(filename)                       # to delete a file"
   ]
  },
  {
   "cell_type": "code",
   "execution_count": 8,
   "metadata": {},
   "outputs": [],
   "source": [
    "new = open(\"file.txt\",\"w\")\n",
    "new.write(\"write something into file\")\n",
    "new.close()"
   ]
  },
  {
   "cell_type": "code",
   "execution_count": 9,
   "metadata": {},
   "outputs": [
    {
     "data": {
      "text/plain": [
       "'write something into file'"
      ]
     },
     "execution_count": 9,
     "metadata": {},
     "output_type": "execute_result"
    }
   ],
   "source": [
    "# example\n",
    "import os\n",
    "new_f = open(\"file.txt\",\"r\")\n",
    "new_f.read()\n"
   ]
  },
  {
   "cell_type": "code",
   "execution_count": 10,
   "metadata": {},
   "outputs": [],
   "source": [
    "new_f.close()"
   ]
  },
  {
   "cell_type": "code",
   "execution_count": 11,
   "metadata": {},
   "outputs": [],
   "source": [
    "os.rename('file.txt','new.txt')"
   ]
  },
  {
   "cell_type": "code",
   "execution_count": 12,
   "metadata": {},
   "outputs": [],
   "source": [
    "os.remove('new.txt')"
   ]
  },
  {
   "cell_type": "code",
   "execution_count": 13,
   "metadata": {},
   "outputs": [
    {
     "data": {
      "text/plain": [
       "25"
      ]
     },
     "execution_count": 13,
     "metadata": {},
     "output_type": "execute_result"
    }
   ],
   "source": [
    "new = open(\"file.txt\",\"w+\")\n",
    "new.write(\"write something into file\")"
   ]
  },
  {
   "cell_type": "code",
   "execution_count": 15,
   "metadata": {},
   "outputs": [
    {
     "name": "stdout",
     "output_type": "stream",
     "text": [
      "w+\n"
     ]
    }
   ],
   "source": [
    "print(new.mode)     # tells mode of operation that file has opened"
   ]
  },
  {
   "cell_type": "code",
   "execution_count": 23,
   "metadata": {},
   "outputs": [
    {
     "name": "stdout",
     "output_type": "stream",
     "text": [
      "file.txt\n"
     ]
    }
   ],
   "source": [
    "print(new.name)"
   ]
  },
  {
   "cell_type": "code",
   "execution_count": 24,
   "metadata": {},
   "outputs": [
    {
     "data": {
      "text/plain": [
       "7"
      ]
     },
     "execution_count": 24,
     "metadata": {},
     "output_type": "execute_result"
    }
   ],
   "source": [
    "new.seek(7)        # changes the current position of the file"
   ]
  },
  {
   "cell_type": "code",
   "execution_count": 25,
   "metadata": {},
   "outputs": [
    {
     "data": {
      "text/plain": [
       "7"
      ]
     },
     "execution_count": 25,
     "metadata": {},
     "output_type": "execute_result"
    }
   ],
   "source": [
    "new.tell()      # tells the current position"
   ]
  },
  {
   "cell_type": "code",
   "execution_count": 26,
   "metadata": {},
   "outputs": [
    {
     "data": {
      "text/plain": [
       "'omething into file'"
      ]
     },
     "execution_count": 26,
     "metadata": {},
     "output_type": "execute_result"
    }
   ],
   "source": [
    "new.read()      # reads from current position"
   ]
  },
  {
   "cell_type": "markdown",
   "metadata": {},
   "source": [
    "* note: try all access modes to get familiar with file operation"
   ]
  },
  {
   "cell_type": "markdown",
   "metadata": {},
   "source": [
    "## Is Python functional programming?\n",
    "https://kite.com/blog/python/functional-programming/\n",
    "\n",
    "yes,Python supports functional as well as object oriented programming"
   ]
  },
  {
   "cell_type": "markdown",
   "metadata": {},
   "source": [
    "# Functions\n",
    "In python, we call functions as methods.\n",
    "* We can create a function that writes the task.\n",
    "* Functions makes developer easy and optimal the code. since, the function is a block of organized, re-usable code.\n",
    "* The keyword def introduces a function definition. It must be followed by the function name and the parenthesized list of formal parameters. The statements that form the body of the function start at the next line, and must be indented."
   ]
  },
  {
   "cell_type": "code",
   "execution_count": 30,
   "metadata": {},
   "outputs": [
    {
     "name": "stdout",
     "output_type": "stream",
     "text": [
      "myname\n"
     ]
    }
   ],
   "source": [
    "def fun():\n",
    "    print(\"myname\")\n",
    "\n",
    "fun()"
   ]
  },
  {
   "cell_type": "code",
   "execution_count": 29,
   "metadata": {},
   "outputs": [
    {
     "name": "stdout",
     "output_type": "stream",
     "text": [
      "deeps\n"
     ]
    }
   ],
   "source": [
    "def print_name(str):\n",
    "    print(str)\n",
    "    \n",
    "print_name(\"deeps\")"
   ]
  },
  {
   "cell_type": "code",
   "execution_count": 36,
   "metadata": {},
   "outputs": [
    {
     "name": "stdout",
     "output_type": "stream",
     "text": [
      "3\n"
     ]
    }
   ],
   "source": [
    "def sum(a,b):\n",
    "   return a+b\n",
    "    \n",
    "s = sum(1,2) \n",
    "print(s)\n",
    "            # in the same way we can write any logic in a block of code as a function\n",
    "            #and can call anywhere in the function any number of times."
   ]
  },
  {
   "cell_type": "markdown",
   "metadata": {},
   "source": [
    "# Built-in functions\n",
    "* functions which are built already in python, we can use them by just calling the function"
   ]
  },
  {
   "cell_type": "code",
   "execution_count": 40,
   "metadata": {},
   "outputs": [
    {
     "data": {
      "text/plain": [
       "[1, 2, 4, 5, 6, 7, 10]"
      ]
     },
     "execution_count": 40,
     "metadata": {},
     "output_type": "execute_result"
    }
   ],
   "source": [
    "#sorted()\n",
    "sorted([2,5,4,1,10,7,6])   # sorting the list"
   ]
  },
  {
   "cell_type": "code",
   "execution_count": 50,
   "metadata": {},
   "outputs": [
    {
     "data": {
      "text/plain": [
       "True"
      ]
     },
     "execution_count": 50,
     "metadata": {},
     "output_type": "execute_result"
    }
   ],
   "source": [
    "#bool()                 # converts to boolean, test that true or false\n",
    "bool('dghf')\n",
    "bool(False)\n",
    "bool(0)\n",
    "bool(1)     # check all one by one"
   ]
  },
  {
   "cell_type": "code",
   "execution_count": 41,
   "metadata": {},
   "outputs": [
    {
     "data": {
      "text/plain": [
       "True"
      ]
     },
     "execution_count": 41,
     "metadata": {},
     "output_type": "execute_result"
    }
   ],
   "source": [
    "#all()\n",
    "all ([True,2,6,4,7,8])    # checks do we have any none values n list and can be iterable"
   ]
  },
  {
   "cell_type": "code",
   "execution_count": 42,
   "metadata": {},
   "outputs": [
    {
     "data": {
      "text/plain": [
       "False"
      ]
     },
     "execution_count": 42,
     "metadata": {},
     "output_type": "execute_result"
    }
   ],
   "source": [
    "all ([True,2,6,4,7,None])"
   ]
  },
  {
   "cell_type": "code",
   "execution_count": 45,
   "metadata": {},
   "outputs": [
    {
     "data": {
      "text/plain": [
       "True"
      ]
     },
     "execution_count": 45,
     "metadata": {},
     "output_type": "execute_result"
    }
   ],
   "source": [
    "#any\n",
    "any([1,3,False])          #  if any value is true then returns true"
   ]
  },
  {
   "cell_type": "code",
   "execution_count": 51,
   "metadata": {},
   "outputs": [
    {
     "data": {
      "text/plain": [
       "'{'"
      ]
     },
     "execution_count": 51,
     "metadata": {},
     "output_type": "execute_result"
    }
   ],
   "source": [
    "#chr()                    # returns the string represention of char based on ascii\n",
    "chr(123)"
   ]
  },
  {
   "cell_type": "code",
   "execution_count": 52,
   "metadata": {},
   "outputs": [
    {
     "data": {
      "text/plain": [
       "123"
      ]
     },
     "execution_count": 52,
     "metadata": {},
     "output_type": "execute_result"
    }
   ],
   "source": [
    "#int()                    #  typecast\n",
    "int('123')"
   ]
  },
  {
   "cell_type": "code",
   "execution_count": 53,
   "metadata": {},
   "outputs": [
    {
     "data": {
      "text/plain": [
       "'0b1111011'"
      ]
     },
     "execution_count": 53,
     "metadata": {},
     "output_type": "execute_result"
    }
   ],
   "source": [
    "bin(123)"
   ]
  },
  {
   "cell_type": "markdown",
   "metadata": {},
   "source": [
    "Note: like this many build-in functions to make developer easy. some Methods comes under modules of python."
   ]
  },
  {
   "cell_type": "markdown",
   "metadata": {},
   "source": [
    "# anonymous functions\n",
    "concisive way of writing functions.....\n",
    "\n",
    "* map, filter , reduce can be used for lambda explained in InterviewQ file"
   ]
  },
  {
   "cell_type": "code",
   "execution_count": 55,
   "metadata": {},
   "outputs": [
    {
     "name": "stdout",
     "output_type": "stream",
     "text": [
      "8\n"
     ]
    }
   ],
   "source": [
    "a = lambda x: x*4  # using lambda we can make logic logic without writing function\n",
    "print(a(2))"
   ]
  },
  {
   "cell_type": "markdown",
   "metadata": {},
   "source": [
    "# Scope of variable:\n",
    "local, global variables \n",
    "* local variables are declared in a closed loop\n",
    "* global variables can be declared anywhere in the code (outside the closed loop)"
   ]
  },
  {
   "cell_type": "markdown",
   "metadata": {},
   "source": [
    "we will discuss more about this in future...."
   ]
  },
  {
   "cell_type": "code",
   "execution_count": 58,
   "metadata": {},
   "outputs": [
    {
     "name": "stdout",
     "output_type": "stream",
     "text": [
      "3\n"
     ]
    }
   ],
   "source": [
    "# function argument arguments in defination and function call should be same\n",
    "#keyword argument - identified by the keyword argument- string is passed as argument\n",
    "def sum(a,b,c):\n",
    "    print(c+b)\n",
    "    \n",
    "sum(b=2,a=4,c=1)    #here irrespective of order based on keyword the argument value will be taken"
   ]
  },
  {
   "cell_type": "code",
   "execution_count": null,
   "metadata": {},
   "outputs": [],
   "source": []
  },
  {
   "cell_type": "code",
   "execution_count": 62,
   "metadata": {},
   "outputs": [
    {
     "name": "stdout",
     "output_type": "stream",
     "text": [
      "5\n",
      "3\n"
     ]
    }
   ],
   "source": [
    "#default argument- if particular values should be default means then we can use this.\n",
    "def summ(a,b,c=3):\n",
    "    print(c+b)\n",
    "    \n",
    "summ(b=2,a=4)\n",
    "summ(b=2,a=4,c=1)    # if we wnt to change it we can pass it as argument"
   ]
  },
  {
   "cell_type": "code",
   "execution_count": 68,
   "metadata": {},
   "outputs": [
    {
     "name": "stdout",
     "output_type": "stream",
     "text": [
      "deeps\n",
      "deeps\n",
      "you\n"
     ]
    }
   ],
   "source": [
    "#variable- length argument - if we dont know how many arguments need to pass then we go for it\n",
    "def user_name(user, *users):\n",
    "    print(user)\n",
    "    for i in users:\n",
    "        print(i)\n",
    "        \n",
    "user_name(\"deeps\")\n",
    "user_name(\"deeps\",\"you\")      # if we want to maintain data logs then i will be much usefull"
   ]
  },
  {
   "cell_type": "code",
   "execution_count": 75,
   "metadata": {},
   "outputs": [
    {
     "name": "stdout",
     "output_type": "stream",
     "text": [
      "{'a': 2, 'b': 4}\n",
      "you\n",
      "deeps\n"
     ]
    }
   ],
   "source": [
    "def user_name(user, *users , **kusers):      #here kusers acts like dictionary\n",
    "    print(kusers)\n",
    "    for i in users:\n",
    "        print(i)\n",
    "    print(user)\n",
    "user_name(\"deeps\",\"you\",a=2,b=4)            #it makes the function flexible to receive different inputs"
   ]
  },
  {
   "cell_type": "markdown",
   "metadata": {},
   "source": [
    "# next we will discuss about difference in functional programming and object oriented programming"
   ]
  },
  {
   "cell_type": "markdown",
   "metadata": {},
   "source": [
    "# References\n",
    "https://docs.python.org/3/tutorial/modules.html\n",
    "\n",
    "https://www.tutorialspoint.com/python/python_modules.html\n",
    "\n",
    "https://www.tutorialspoint.com/python3/python_files_io.html\n",
    "\n",
    "\n"
   ]
  }
 ],
 "metadata": {
  "kernelspec": {
   "display_name": "Python 3",
   "language": "python",
   "name": "python3"
  },
  "language_info": {
   "codemirror_mode": {
    "name": "ipython",
    "version": 3
   },
   "file_extension": ".py",
   "mimetype": "text/x-python",
   "name": "python",
   "nbconvert_exporter": "python",
   "pygments_lexer": "ipython3",
   "version": "3.7.3"
  }
 },
 "nbformat": 4,
 "nbformat_minor": 2
}
