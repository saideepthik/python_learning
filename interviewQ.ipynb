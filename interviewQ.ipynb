{
 "cells": [
  {
   "cell_type": "code",
   "execution_count": 1,
   "metadata": {},
   "outputs": [
    {
     "name": "stdout",
     "output_type": "stream",
     "text": [
      "true\n"
     ]
    }
   ],
   "source": [
    "if 'a':\n",
    "    print(\"true\")"
   ]
  },
  {
   "cell_type": "code",
   "execution_count": 2,
   "metadata": {},
   "outputs": [],
   "source": [
    "if None:\n",
    "    print(\"true\")"
   ]
  },
  {
   "cell_type": "code",
   "execution_count": 5,
   "metadata": {
    "scrolled": true
   },
   "outputs": [
    {
     "name": "stdout",
     "output_type": "stream",
     "text": [
      "(1, 2, [1, 2, 3])\n"
     ]
    },
    {
     "ename": "TypeError",
     "evalue": "'tuple' object does not support item assignment",
     "output_type": "error",
     "traceback": [
      "\u001b[1;31m---------------------------------------------------------------------------\u001b[0m",
      "\u001b[1;31mTypeError\u001b[0m                                 Traceback (most recent call last)",
      "\u001b[1;32m<ipython-input-5-e4f69f85f25d>\u001b[0m in \u001b[0;36m<module>\u001b[1;34m\u001b[0m\n\u001b[0;32m      4\u001b[0m \u001b[0mb\u001b[0m\u001b[1;33m[\u001b[0m\u001b[1;36m2\u001b[0m\u001b[1;33m]\u001b[0m\u001b[1;33m.\u001b[0m\u001b[0mappend\u001b[0m\u001b[1;33m(\u001b[0m\u001b[1;36m3\u001b[0m\u001b[1;33m)\u001b[0m\u001b[1;33m\u001b[0m\u001b[1;33m\u001b[0m\u001b[0m\n\u001b[0;32m      5\u001b[0m \u001b[0mprint\u001b[0m\u001b[1;33m(\u001b[0m\u001b[0mb\u001b[0m\u001b[1;33m)\u001b[0m \u001b[1;31m# Gives output:(1, 2, [1, 2, 3])\u001b[0m\u001b[1;33m\u001b[0m\u001b[1;33m\u001b[0m\u001b[0m\n\u001b[1;32m----> 6\u001b[1;33m \u001b[0mb\u001b[0m\u001b[1;33m[\u001b[0m\u001b[1;36m2\u001b[0m\u001b[1;33m]\u001b[0m\u001b[1;33m=\u001b[0m\u001b[1;36m100\u001b[0m \u001b[1;31m# Gives an Error:'tuple' object does not support item assignment.\u001b[0m\u001b[1;33m\u001b[0m\u001b[1;33m\u001b[0m\u001b[0m\n\u001b[0m\u001b[0;32m      7\u001b[0m \u001b[1;33m\u001b[0m\u001b[0m\n",
      "\u001b[1;31mTypeError\u001b[0m: 'tuple' object does not support item assignment"
     ]
    }
   ],
   "source": [
    "a=[1,2,(1,2)] #list \n",
    "b=(1,2,[1,2]) #tuple \n",
    "#a[2].append(3) #Gives Error:'tuple' object has no attribute 'append'\n",
    "b[2].append(3) \n",
    "print(b) # Gives output:(1, 2, [1, 2, 3])\n",
    "#b[2]=100 # Gives an Error:'tuple' object does not support item assignment.\n",
    " "
   ]
  },
  {
   "cell_type": "code",
   "execution_count": 1,
   "metadata": {},
   "outputs": [
    {
     "name": "stdout",
     "output_type": "stream",
     "text": [
      "[-1, 2]\n"
     ]
    }
   ],
   "source": [
    "#softcopy vs Deep copy\n",
    "## soft copy copies the reference \n",
    "a= [1,2]\n",
    "b=a\n",
    "b[0] = -1\n",
    "print(a)"
   ]
  },
  {
   "cell_type": "code",
   "execution_count": 3,
   "metadata": {},
   "outputs": [
    {
     "name": "stdout",
     "output_type": "stream",
     "text": [
      "[1, 2]\n"
     ]
    }
   ],
   "source": [
    "#deep copy\n",
    "import copy\n",
    "a= [1,2]\n",
    "b=copy.deepcopy(a)\n",
    "b[0] = -1\n",
    "print(a)"
   ]
  },
  {
   "cell_type": "code",
   "execution_count": 5,
   "metadata": {},
   "outputs": [
    {
     "name": "stdout",
     "output_type": "stream",
     "text": [
      "[1.2, [3, 4]]\n"
     ]
    }
   ],
   "source": [
    "#append vs extend\n",
    "a = [1.2]\n",
    "b= [3,4]\n",
    "a.append(b)\n",
    "print(a)"
   ]
  },
  {
   "cell_type": "code",
   "execution_count": 6,
   "metadata": {},
   "outputs": [
    {
     "name": "stdout",
     "output_type": "stream",
     "text": [
      "[1.2, [3, 4], 3, 4]\n"
     ]
    }
   ],
   "source": [
    "a.extend(b)\n",
    "print(a)"
   ]
  },
  {
   "cell_type": "code",
   "execution_count": 13,
   "metadata": {},
   "outputs": [
    {
     "data": {
      "text/plain": [
       "[2, 4, 6, 8]"
      ]
     },
     "execution_count": 13,
     "metadata": {},
     "output_type": "execute_result"
    }
   ],
   "source": [
    "#list of integers and you only want the numbers that are even.\n",
    "integers = range(1,10)\n",
    "even =[]\n",
    "for i in integers:\n",
    "    if i%2 == 0: even.append(i)\n",
    "even"
   ]
  },
  {
   "cell_type": "markdown",
   "metadata": {},
   "source": [
    "## Higher order functions\n",
    "A higher order function is a fuction that operates on other functions, either by taking a function as its argument, or by returning a function. Since functions are first-class objects this is easy to do in Python, \n",
    "and the standard library comes with several higher order functions that make list operations more convenient. "
   ]
  },
  {
   "cell_type": "markdown",
   "metadata": {},
   "source": [
    "## filter\n",
    "The filter() method filters the given sequence with the help of a function that tests each element in the sequence to be true or not.\n",
    "\n",
    "syntax:\n",
    "\n",
    "filter(function, sequence)"
   ]
  },
  {
   "cell_type": "code",
   "execution_count": 22,
   "metadata": {},
   "outputs": [
    {
     "name": "stdout",
     "output_type": "stream",
     "text": [
      "2\n",
      "4\n",
      "6\n",
      "8\n"
     ]
    }
   ],
   "source": [
    "even = filter(lambda x: x % 2 == 0, integers)  # Lambda functions to separate list, tuple, or sets.\n",
    "for s in even:\n",
    "    print(s)"
   ]
  },
  {
   "cell_type": "code",
   "execution_count": 27,
   "metadata": {},
   "outputs": [
    {
     "name": "stdout",
     "output_type": "stream",
     "text": [
      "2\n",
      "4\n"
     ]
    }
   ],
   "source": [
    "def f(x): \n",
    "    return x%2 ==0\n",
    "def m(y): \n",
    "    return y*2\n",
    "def n(x,y): \n",
    "    return x+y\n",
    "\n",
    "l= [1,2,3,4]\n",
    "\n",
    "#filter\n",
    "flist = filter(f,l)\n",
    "for t in flist:\n",
    "    print(t)\n"
   ]
  },
  {
   "cell_type": "markdown",
   "metadata": {},
   "source": [
    "# map\n",
    "map() function returns a list of the results after applying the given function to each item of a given iterable (list, tuple etc.)\n",
    "\n",
    "Syntax :\n",
    "\n",
    "map(fun, iter)"
   ]
  },
  {
   "cell_type": "code",
   "execution_count": 28,
   "metadata": {},
   "outputs": [
    {
     "name": "stdout",
     "output_type": "stream",
     "text": [
      "[2, 4, 6, 8, 4]\n",
      "4\n",
      "8\n",
      "12\n",
      "16\n",
      "8\n"
     ]
    }
   ],
   "source": [
    "# map\n",
    "l= [2,4,6,8,4]\n",
    "mlist = map(m,l)\n",
    "print(l)\n",
    "for i in mlist:\n",
    "    print(i)"
   ]
  },
  {
   "cell_type": "code",
   "execution_count": 30,
   "metadata": {},
   "outputs": [
    {
     "name": "stdout",
     "output_type": "stream",
     "text": [
      "4\n",
      "8\n",
      "12\n",
      "16\n",
      "8\n"
     ]
    }
   ],
   "source": [
    "ml = map(lambda  x : x*2 , l) #using lambda\n",
    "for i in ml:\n",
    "    print(i)"
   ]
  },
  {
   "cell_type": "markdown",
   "metadata": {},
   "source": [
    "# reduce\n",
    "The reduce(fun,seq) function is used to apply a particular function passed in its argument to all of the list elements mentioned in the sequence passed along.This function is defined in “functools” module."
   ]
  },
  {
   "cell_type": "code",
   "execution_count": 45,
   "metadata": {},
   "outputs": [
    {
     "name": "stdout",
     "output_type": "stream",
     "text": [
      "[2, 4, 6, 8, 4]\n",
      "24\n"
     ]
    }
   ],
   "source": [
    "# reduce\n",
    "from functools import reduce\n",
    "nlist = reduce(n,l)\n",
    "print(l)\n",
    "print(nlist)"
   ]
  },
  {
   "cell_type": "code",
   "execution_count": 51,
   "metadata": {},
   "outputs": [
    {
     "name": "stdout",
     "output_type": "stream",
     "text": [
      "The sum of the list elements is : 17\n",
      "The maximum element of the list is : 6\n"
     ]
    }
   ],
   "source": [
    "import functools \n",
    "  \n",
    "# initializing list \n",
    "lis = [ 1 , 3, 5, 6, 2, ] \n",
    "print (\"The sum of the list elements is : \",end=\"\")   #The end=' ' is just to say that you want a space after the end of the statement instead of a new line character.\n",
    "# using reduce to compute sum of list \n",
    "print(functools.reduce(lambda a,b : a+b,lis))\n",
    "# using reduce to compute maximum element from list \n",
    "print (\"The maximum element of the list is : \",end=\"\") \n",
    "print (functools.reduce(lambda a,b : a if a > b else b,lis)) \n",
    "\n"
   ]
  },
  {
   "cell_type": "code",
   "execution_count": 49,
   "metadata": {},
   "outputs": [
    {
     "name": "stdout",
     "output_type": "stream",
     "text": [
      "The sum of the list elements is : 17\n",
      "The product of list elements is : 180\n",
      "The concatenated product is : geeksforgeeks\n"
     ]
    }
   ],
   "source": [
    "#reduce() can also be combined with operator functions to achieve the similar functionality\n",
    "#as with lambda functions and makes the code more readable.\n",
    "\n",
    "import operator\n",
    "print (\"The sum of the list elements is : \",end=\"\") \n",
    "print (functools.reduce(operator.add,lis)) \n",
    "  \n",
    "# using reduce to compute product \n",
    "# using operator functions \n",
    "print (\"The product of list elements is : \",end=\"\") \n",
    "print (functools.reduce(operator.mul,lis)) \n",
    "  \n",
    "# using reduce to concatenate string \n",
    "print (\"The concatenated product is : \",end=\"\") \n",
    "print (functools.reduce(operator.add,[\"geeks\",\"for\",\"geeks\"])) \n"
   ]
  },
  {
   "cell_type": "markdown",
   "metadata": {},
   "source": [
    "# accumulate\n",
    "Both reduce() and accumulate() can be used to calculate the summation of a sequence elements. But there are differences in the implementation aspects in both of these.\n",
    "\n",
    "* reduce() is defined in “functools” module, accumulate() in “itertools” module.\n",
    "* reduce() stores the intermediate result and only returns the final summation value. Whereas, accumulate() returns a list containing the intermediate results. The last number of the list returned is summation value of the list.\n",
    "* reduce(fun,seq) takes function as 1st and sequence as 2nd argument. In contrast accumulate(seq,fun) takes sequence as 1st argument and function as 2nd argument."
   ]
  },
  {
   "cell_type": "code",
   "execution_count": 50,
   "metadata": {},
   "outputs": [
    {
     "name": "stdout",
     "output_type": "stream",
     "text": [
      "[1, 4, 8, 18, 22]\n",
      "The summation of list using reduce is :22\n"
     ]
    }
   ],
   "source": [
    "# python code to demonstrate summation \n",
    "# using reduce() and accumulate() \n",
    "\n",
    "# importing itertools for accumulate() \n",
    "import itertools \n",
    "\n",
    "# importing functools for reduce() \n",
    "import functools \n",
    "\n",
    "# initializing list \n",
    "lis = [ 1, 3, 4, 10, 4 ] \n",
    "\n",
    "# priting summation using accumulate() \n",
    "print (\"The summation of list using accumulate is :\",end=\"\") \n",
    "print (list(itertools.accumulate(lis,lambda x,y : x+y))) \n",
    "\n",
    "# priting summation using reduce() \n",
    "print (\"The summation of list using reduce is :\",end=\"\") \n",
    "print (functools.reduce(lambda x,y:x+y,lis)) \n"
   ]
  },
  {
   "cell_type": "code",
   "execution_count": null,
   "metadata": {},
   "outputs": [],
   "source": []
  }
 ],
 "metadata": {
  "kernelspec": {
   "display_name": "Python 3",
   "language": "python",
   "name": "python3"
  },
  "language_info": {
   "codemirror_mode": {
    "name": "ipython",
    "version": 3
   },
   "file_extension": ".py",
   "mimetype": "text/x-python",
   "name": "python",
   "nbconvert_exporter": "python",
   "pygments_lexer": "ipython3",
   "version": "3.7.3"
  }
 },
 "nbformat": 4,
 "nbformat_minor": 2
}
