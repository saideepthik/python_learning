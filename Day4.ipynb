{
 "cells": [
  {
   "cell_type": "markdown",
   "metadata": {},
   "source": [
    "# Standard data types:\n",
    "* mutable and immutable\n",
    "here,\n",
    "* mutable means values can be changed: Lists, sets, dictionaries\n",
    "* immutable means values can be changed: Tuple, strings, numbers\n"
   ]
  },
  {
   "cell_type": "code",
   "execution_count": 1,
   "metadata": {},
   "outputs": [
    {
     "name": "stdout",
     "output_type": "stream",
     "text": [
      "(12+2j)\n"
     ]
    }
   ],
   "source": [
    "#numeric: int, float, complex (binary , octal, hexadecimal)\n",
    "c = 10+6j\n",
    "d = 2-4j\n",
    "print(c+d)"
   ]
  },
  {
   "cell_type": "code",
   "execution_count": 2,
   "metadata": {},
   "outputs": [
    {
     "name": "stdout",
     "output_type": "stream",
     "text": [
      "fghfjhgjkh\n",
      "fggjhk\n"
     ]
    }
   ],
   "source": [
    "#strings \n",
    "a ='fghfjhgjkh'\n",
    "b = \"fggjhk\"\n",
    "print(a)\n",
    "print(b)"
   ]
  },
  {
   "cell_type": "code",
   "execution_count": 3,
   "metadata": {},
   "outputs": [
    {
     "name": "stdout",
     "output_type": "stream",
     "text": [
      "(1, 2, 3)\n"
     ]
    }
   ],
   "source": [
    "#tuple\n",
    "tup = (1,2,3)\n",
    "print(tup)\n",
    "#tup[2]= 6 # error TypeError: 'tuple' object does not support item assignment bcz of immutability"
   ]
  },
  {
   "cell_type": "code",
   "execution_count": 4,
   "metadata": {},
   "outputs": [
    {
     "name": "stdout",
     "output_type": "stream",
     "text": [
      "[1, 'a', 'fhgjh']\n",
      "[1, 'deep', 'fhgjh']\n"
     ]
    }
   ],
   "source": [
    "#lists\n",
    "a= [1,'a',\"fhgjh\"]\n",
    "print(a)\n",
    "a[1] = \"deep\"\n",
    "print(a)  # mutable"
   ]
  },
  {
   "cell_type": "code",
   "execution_count": 5,
   "metadata": {},
   "outputs": [
    {
     "name": "stdout",
     "output_type": "stream",
     "text": [
      "[1, 'deep', (1, 2, 3)]\n"
     ]
    }
   ],
   "source": [
    "a[2] = (1,2,3)\n",
    "print(a)  # tuple inserted as a element to list\n",
    "#use of tuple in list: will  be used where we dont want to change the element of lists"
   ]
  },
  {
   "cell_type": "code",
   "execution_count": 6,
   "metadata": {},
   "outputs": [
    {
     "name": "stdout",
     "output_type": "stream",
     "text": [
      "{'name': 'deep', 'age': 25}\n",
      "deep\n"
     ]
    }
   ],
   "source": [
    "#dictionaries are better for developer readability than lists\n",
    "a = {'name' : \"deep\", 'age': 25} # key should be string\n",
    "print(a)\n",
    "print(a['name'])"
   ]
  },
  {
   "cell_type": "code",
   "execution_count": 7,
   "metadata": {},
   "outputs": [
    {
     "name": "stdout",
     "output_type": "stream",
     "text": [
      "{1, 2, 3}\n"
     ]
    }
   ],
   "source": [
    "#set is an unordered collection of items, every element is unique and doesn't bother about non-unique\n",
    "a = {1,2,3,2}\n",
    "print(a)"
   ]
  },
  {
   "cell_type": "markdown",
   "metadata": {},
   "source": [
    "## Loops\n",
    "* while - nested - for\n",
    "* loops allows us to execute a statement or a group of statements multiple times"
   ]
  },
  {
   "cell_type": "code",
   "execution_count": 8,
   "metadata": {},
   "outputs": [
    {
     "name": "stdout",
     "output_type": "stream",
     "text": [
      "0\n",
      "1\n",
      "2\n",
      "3\n",
      "4\n",
      "done\n"
     ]
    }
   ],
   "source": [
    "#while\n",
    "c=0\n",
    "while(c<5):\n",
    "    print(c)\n",
    "    c = c + 1\n",
    "print(\"done\")"
   ]
  },
  {
   "cell_type": "code",
   "execution_count": 9,
   "metadata": {},
   "outputs": [
    {
     "name": "stdout",
     "output_type": "stream",
     "text": [
      "0\n",
      "1\n",
      "2\n",
      "3\n",
      "4\n"
     ]
    }
   ],
   "source": [
    "#for \n",
    "for i in range (5):\n",
    "    print(i)"
   ]
  },
  {
   "cell_type": "code",
   "execution_count": 10,
   "metadata": {},
   "outputs": [
    {
     "name": "stdout",
     "output_type": "stream",
     "text": [
      "1\n",
      "2\n",
      "3\n"
     ]
    }
   ],
   "source": [
    "for i in a:\n",
    "    print(i)"
   ]
  },
  {
   "cell_type": "code",
   "execution_count": 11,
   "metadata": {},
   "outputs": [
    {
     "name": "stdout",
     "output_type": "stream",
     "text": [
      "0\n",
      "1\n",
      "2\n",
      "3\n",
      "4\n"
     ]
    }
   ],
   "source": [
    "# nested loop\n",
    "a=0\n",
    "while(a==0):\n",
    "    for i in range (5):\n",
    "        print(i)\n",
    "        i = i+1\n",
    "        if(i==5):\n",
    "            a=1\n",
    "        "
   ]
  },
  {
   "cell_type": "markdown",
   "metadata": {},
   "source": [
    "# Loop control statements\n",
    "* break - continue - pass"
   ]
  },
  {
   "cell_type": "code",
   "execution_count": 12,
   "metadata": {},
   "outputs": [
    {
     "name": "stdout",
     "output_type": "stream",
     "text": [
      "pass will be used to tell that loop is closed\n"
     ]
    }
   ],
   "source": [
    "for i in range(5):\n",
    "    pass\n",
    "print(\"pass will be used to tell that loop is closed\")"
   ]
  },
  {
   "cell_type": "code",
   "execution_count": 15,
   "metadata": {},
   "outputs": [
    {
     "name": "stdout",
     "output_type": "stream",
     "text": [
      "0\n",
      "1\n",
      "2\n",
      "3\n",
      "4\n",
      "continue will be used when after some condition you want to continue to next statements\n"
     ]
    }
   ],
   "source": [
    "for i in range (5):\n",
    "    print(i)\n",
    "    i = i+1\n",
    "    if(i==5):\n",
    "        continue\n",
    "print(\"continue will be used when after some condition you want to continue to next statements\")"
   ]
  },
  {
   "cell_type": "code",
   "execution_count": 18,
   "metadata": {},
   "outputs": [
    {
     "name": "stdout",
     "output_type": "stream",
     "text": [
      "0\n",
      "break will be used when after some condition you want to break the loop\n",
      "1\n",
      "break will be used when after some condition you want to break the loop\n",
      "2\n",
      "break will be used when after some condition you want to break the loop\n",
      "3\n",
      "break will be used when after some condition you want to break the loop\n",
      "4\n"
     ]
    }
   ],
   "source": [
    "for i in range (5):\n",
    "    print(i)\n",
    "    i = i+1\n",
    "    if(i==5):\n",
    "        break\n",
    "    print(\"break will be used when after some condition you want to break the loop\")"
   ]
  },
  {
   "cell_type": "markdown",
   "metadata": {},
   "source": [
    "# References\n",
    "https://www.geeksforgeeks.org/python-set-3-strings-lists-tuples-iterations/\n",
    "https://www.geeksforgeeks.org/python-set-4-dictionary-keywords-python/\n",
    "https://www.geeksforgeeks.org/loops-in-python/"
   ]
  }
 ],
 "metadata": {
  "kernelspec": {
   "display_name": "Python 3",
   "language": "python",
   "name": "python3"
  },
  "language_info": {
   "codemirror_mode": {
    "name": "ipython",
    "version": 3
   },
   "file_extension": ".py",
   "mimetype": "text/x-python",
   "name": "python",
   "nbconvert_exporter": "python",
   "pygments_lexer": "ipython3",
   "version": "3.7.3"
  }
 },
 "nbformat": 4,
 "nbformat_minor": 2
}
